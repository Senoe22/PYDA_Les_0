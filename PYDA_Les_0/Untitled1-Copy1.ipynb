{
 "cells": [
  {
   "cell_type": "code",
   "execution_count": 15,
   "metadata": {
    "scrolled": true
   },
   "outputs": [
    {
     "name": "stdout",
     "output_type": "stream",
     "text": [
      "Первая фраза длиннее второй\n"
     ]
    }
   ],
   "source": [
    "a='hkjhkjhll'\n",
    "b='gjhgjhgj'\n",
    "if len(a)>len(b):\n",
    "    print('Первая фраза длиннее второй')\n",
    "elif len(a)<len(b):\n",
    "    print('Вторая фраза длиннее первой')\n",
    "else:http://localhost:8888/notebooks/Untitled1-Copy1.ipynb#\n",
    "    print('Фразы равной длины')\n"
   ]
  },
  {
   "cell_type": "code",
   "execution_count": 29,
   "metadata": {},
   "outputs": [
    {
     "name": "stdout",
     "output_type": "stream",
     "text": [
      "Введите год   2003\n",
      "Обычный год\n"
     ]
    }
   ],
   "source": [
    "a=int(input('Введите год   '))\n",
    "b=a//4\n",
    "c=b*4\n",
    "if a==c:\n",
    "    print('Високосный год')\n",
    "else:\n",
    "    print('Обычный год')\n"
   ]
  }
 ],
 "metadata": {
  "kernelspec": {
   "display_name": "Python 3",
   "language": "python",
   "name": "python3"
  },
  "language_info": {
   "codemirror_mode": {
    "name": "ipython",
    "version": 3
   },
   "file_extension": ".py",
   "mimetype": "text/x-python",
   "name": "python",
   "nbconvert_exporter": "python",
   "pygments_lexer": "ipython3",
   "version": "3.8.3"
  }
 },
 "nbformat": 4,
 "nbformat_minor": 4
}
